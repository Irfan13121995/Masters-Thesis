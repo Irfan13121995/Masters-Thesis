{
 "cells": [
  {
   "cell_type": "markdown",
   "metadata": {},
   "source": [
    "# PeMS_data"
   ]
  },
  {
   "cell_type": "code",
   "execution_count": 1,
   "metadata": {},
   "outputs": [],
   "source": [
    "import pandas as pd"
   ]
  },
  {
   "cell_type": "code",
   "execution_count": 20,
   "metadata": {},
   "outputs": [
    {
     "data": {
      "application/javascript": [
       "\n",
       "        if (window._pyforest_update_imports_cell) { window._pyforest_update_imports_cell('import pandas as pd\\nimport numpy as np'); }\n",
       "    "
      ],
      "text/plain": [
       "<IPython.core.display.Javascript object>"
      ]
     },
     "metadata": {},
     "output_type": "display_data"
    },
    {
     "data": {
      "text/html": [
       "<div>\n",
       "<style scoped>\n",
       "    .dataframe tbody tr th:only-of-type {\n",
       "        vertical-align: middle;\n",
       "    }\n",
       "\n",
       "    .dataframe tbody tr th {\n",
       "        vertical-align: top;\n",
       "    }\n",
       "\n",
       "    .dataframe thead th {\n",
       "        text-align: right;\n",
       "    }\n",
       "</style>\n",
       "<table border=\"1\" class=\"dataframe\">\n",
       "  <thead>\n",
       "    <tr style=\"text-align: right;\">\n",
       "      <th></th>\n",
       "      <th>Date</th>\n",
       "      <th>TOD</th>\n",
       "      <th>Travel Time</th>\n",
       "      <th># Lane Pts</th>\n",
       "      <th>start</th>\n",
       "      <th>end</th>\n",
       "      <th>distance</th>\n",
       "    </tr>\n",
       "  </thead>\n",
       "  <tbody>\n",
       "    <tr>\n",
       "      <th>0</th>\n",
       "      <td>2020-01-10</td>\n",
       "      <td>00:00</td>\n",
       "      <td>3.38</td>\n",
       "      <td>37</td>\n",
       "      <td>SR 78</td>\n",
       "      <td>Centre City Pkwy</td>\n",
       "      <td>6.28</td>\n",
       "    </tr>\n",
       "    <tr>\n",
       "      <th>209369</th>\n",
       "      <td>2020-06-29</td>\n",
       "      <td>00:00</td>\n",
       "      <td>16.42</td>\n",
       "      <td>144</td>\n",
       "      <td>405-N/Sepulveda Blvd</td>\n",
       "      <td>405-N/Onion Ave</td>\n",
       "      <td>30.58</td>\n",
       "    </tr>\n",
       "    <tr>\n",
       "      <th>186047</th>\n",
       "      <td>2020-06-12</td>\n",
       "      <td>00:00</td>\n",
       "      <td>16.47</td>\n",
       "      <td>144</td>\n",
       "      <td>405-N/Sepulveda Blvd</td>\n",
       "      <td>405-N/Onion Ave</td>\n",
       "      <td>30.58</td>\n",
       "    </tr>\n",
       "    <tr>\n",
       "      <th>195554</th>\n",
       "      <td>2020-06-19</td>\n",
       "      <td>00:00</td>\n",
       "      <td>3.38</td>\n",
       "      <td>37</td>\n",
       "      <td>SR 78</td>\n",
       "      <td>Centre City Pkwy</td>\n",
       "      <td>6.28</td>\n",
       "    </tr>\n",
       "    <tr>\n",
       "      <th>195547</th>\n",
       "      <td>2020-06-19</td>\n",
       "      <td>00:00</td>\n",
       "      <td>16.58</td>\n",
       "      <td>144</td>\n",
       "      <td>405-N/Sepulveda Blvd</td>\n",
       "      <td>405-N/Onion Ave</td>\n",
       "      <td>30.58</td>\n",
       "    </tr>\n",
       "    <tr>\n",
       "      <th>...</th>\n",
       "      <td>...</td>\n",
       "      <td>...</td>\n",
       "      <td>...</td>\n",
       "      <td>...</td>\n",
       "      <td>...</td>\n",
       "      <td>...</td>\n",
       "      <td>...</td>\n",
       "    </tr>\n",
       "    <tr>\n",
       "      <th>183545</th>\n",
       "      <td>2020-06-11</td>\n",
       "      <td>23:55</td>\n",
       "      <td>19.70</td>\n",
       "      <td>231</td>\n",
       "      <td>405-N/Wardlow Rd</td>\n",
       "      <td>405-N/National Blvd</td>\n",
       "      <td>35.89</td>\n",
       "    </tr>\n",
       "    <tr>\n",
       "      <th>13049</th>\n",
       "      <td>2020-01-22</td>\n",
       "      <td>23:55</td>\n",
       "      <td>19.57</td>\n",
       "      <td>232</td>\n",
       "      <td>405-N/Wardlow Rd</td>\n",
       "      <td>405-N/National Blvd</td>\n",
       "      <td>35.89</td>\n",
       "    </tr>\n",
       "    <tr>\n",
       "      <th>47060</th>\n",
       "      <td>2020-02-21</td>\n",
       "      <td>23:55</td>\n",
       "      <td>16.77</td>\n",
       "      <td>144</td>\n",
       "      <td>405-N/Sepulveda Blvd</td>\n",
       "      <td>405-N/Onion Ave</td>\n",
       "      <td>30.58</td>\n",
       "    </tr>\n",
       "    <tr>\n",
       "      <th>43009</th>\n",
       "      <td>2020-02-18</td>\n",
       "      <td>23:55</td>\n",
       "      <td>21.15</td>\n",
       "      <td>248</td>\n",
       "      <td>405-N/Wardlow Rd</td>\n",
       "      <td>405-N/State Hwy 2</td>\n",
       "      <td>39.12</td>\n",
       "    </tr>\n",
       "    <tr>\n",
       "      <th>211391</th>\n",
       "      <td>2020-06-30</td>\n",
       "      <td>23:55</td>\n",
       "      <td>121.80</td>\n",
       "      <td>831</td>\n",
       "      <td>5-N/Vandegrift Blvd</td>\n",
       "      <td>101-N/Nellora/Daily Dr</td>\n",
       "      <td>215.97</td>\n",
       "    </tr>\n",
       "  </tbody>\n",
       "</table>\n",
       "<p>211392 rows × 7 columns</p>\n",
       "</div>"
      ],
      "text/plain": [
       "             Date    TOD  Travel Time  # Lane Pts                 start  \\\n",
       "0      2020-01-10  00:00         3.38          37                 SR 78   \n",
       "209369 2020-06-29  00:00        16.42         144  405-N/Sepulveda Blvd   \n",
       "186047 2020-06-12  00:00        16.47         144  405-N/Sepulveda Blvd   \n",
       "195554 2020-06-19  00:00         3.38          37                 SR 78   \n",
       "195547 2020-06-19  00:00        16.58         144  405-N/Sepulveda Blvd   \n",
       "...           ...    ...          ...         ...                   ...   \n",
       "183545 2020-06-11  23:55        19.70         231      405-N/Wardlow Rd   \n",
       "13049  2020-01-22  23:55        19.57         232      405-N/Wardlow Rd   \n",
       "47060  2020-02-21  23:55        16.77         144  405-N/Sepulveda Blvd   \n",
       "43009  2020-02-18  23:55        21.15         248      405-N/Wardlow Rd   \n",
       "211391 2020-06-30  23:55       121.80         831   5-N/Vandegrift Blvd   \n",
       "\n",
       "                           end  distance  \n",
       "0             Centre City Pkwy      6.28  \n",
       "209369         405-N/Onion Ave     30.58  \n",
       "186047         405-N/Onion Ave     30.58  \n",
       "195554        Centre City Pkwy      6.28  \n",
       "195547         405-N/Onion Ave     30.58  \n",
       "...                        ...       ...  \n",
       "183545     405-N/National Blvd     35.89  \n",
       "13049      405-N/National Blvd     35.89  \n",
       "47060          405-N/Onion Ave     30.58  \n",
       "43009        405-N/State Hwy 2     39.12  \n",
       "211391  101-N/Nellora/Daily Dr    215.97  \n",
       "\n",
       "[211392 rows x 7 columns]"
      ]
     },
     "execution_count": 20,
     "metadata": {},
     "output_type": "execute_result"
    }
   ],
   "source": [
    "PeMS_data = pd.read_pickle('PeMS_dataset.pkl')\n",
    "PeMS_data.sort_values('TOD')"
   ]
  },
  {
   "cell_type": "code",
   "execution_count": 4,
   "metadata": {},
   "outputs": [
    {
     "data": {
      "text/html": [
       "<div>\n",
       "<style scoped>\n",
       "    .dataframe tbody tr th:only-of-type {\n",
       "        vertical-align: middle;\n",
       "    }\n",
       "\n",
       "    .dataframe tbody tr th {\n",
       "        vertical-align: top;\n",
       "    }\n",
       "\n",
       "    .dataframe thead th {\n",
       "        text-align: right;\n",
       "    }\n",
       "</style>\n",
       "<table border=\"1\" class=\"dataframe\">\n",
       "  <thead>\n",
       "    <tr style=\"text-align: right;\">\n",
       "      <th></th>\n",
       "      <th>count</th>\n",
       "      <th>mean</th>\n",
       "      <th>std</th>\n",
       "      <th>min</th>\n",
       "      <th>25%</th>\n",
       "      <th>50%</th>\n",
       "      <th>75%</th>\n",
       "      <th>max</th>\n",
       "    </tr>\n",
       "  </thead>\n",
       "  <tbody>\n",
       "    <tr>\n",
       "      <th>Travel Time</th>\n",
       "      <td>211392.0</td>\n",
       "      <td>30.062288</td>\n",
       "      <td>23.704173</td>\n",
       "      <td>3.05</td>\n",
       "      <td>18.13</td>\n",
       "      <td>23.07</td>\n",
       "      <td>40.10</td>\n",
       "      <td>163.37</td>\n",
       "    </tr>\n",
       "    <tr>\n",
       "      <th># Lane Pts</th>\n",
       "      <td>211392.0</td>\n",
       "      <td>260.333428</td>\n",
       "      <td>179.409164</td>\n",
       "      <td>24.00</td>\n",
       "      <td>144.00</td>\n",
       "      <td>249.00</td>\n",
       "      <td>320.00</td>\n",
       "      <td>1139.00</td>\n",
       "    </tr>\n",
       "    <tr>\n",
       "      <th>distance</th>\n",
       "      <td>211392.0</td>\n",
       "      <td>45.888828</td>\n",
       "      <td>35.494263</td>\n",
       "      <td>6.28</td>\n",
       "      <td>30.58</td>\n",
       "      <td>39.12</td>\n",
       "      <td>58.74</td>\n",
       "      <td>215.97</td>\n",
       "    </tr>\n",
       "  </tbody>\n",
       "</table>\n",
       "</div>"
      ],
      "text/plain": [
       "                count        mean         std    min     25%     50%     75%  \\\n",
       "Travel Time  211392.0   30.062288   23.704173   3.05   18.13   23.07   40.10   \n",
       "# Lane Pts   211392.0  260.333428  179.409164  24.00  144.00  249.00  320.00   \n",
       "distance     211392.0   45.888828   35.494263   6.28   30.58   39.12   58.74   \n",
       "\n",
       "                 max  \n",
       "Travel Time   163.37  \n",
       "# Lane Pts   1139.00  \n",
       "distance      215.97  "
      ]
     },
     "execution_count": 4,
     "metadata": {},
     "output_type": "execute_result"
    }
   ],
   "source": [
    "PeMS_data.describe().transpose()"
   ]
  },
  {
   "cell_type": "code",
   "execution_count": 5,
   "metadata": {},
   "outputs": [],
   "source": [
    "from pandas_profiling import ProfileReport\n",
    "\n",
    "def generate_report(data,report):\n",
    "    prof_report = ProfileReport(data)\n",
    "    return prof_report.to_file(output_file= report+'.html')"
   ]
  },
  {
   "cell_type": "code",
   "execution_count": 6,
   "metadata": {},
   "outputs": [
    {
     "data": {
      "application/vnd.jupyter.widget-view+json": {
       "model_id": "5e303172e7634eb0905785bd57df55c6",
       "version_major": 2,
       "version_minor": 0
      },
      "text/plain": [
       "Summarize dataset:   0%|          | 0/21 [00:00<?, ?it/s]"
      ]
     },
     "metadata": {},
     "output_type": "display_data"
    },
    {
     "data": {
      "application/vnd.jupyter.widget-view+json": {
       "model_id": "4f6121beddba4ce2b4ef0593dac17c5d",
       "version_major": 2,
       "version_minor": 0
      },
      "text/plain": [
       "Generate report structure:   0%|          | 0/1 [00:00<?, ?it/s]"
      ]
     },
     "metadata": {},
     "output_type": "display_data"
    },
    {
     "data": {
      "application/vnd.jupyter.widget-view+json": {
       "model_id": "4d42759f7d9344d3ab2f165ce31f63c6",
       "version_major": 2,
       "version_minor": 0
      },
      "text/plain": [
       "Render HTML:   0%|          | 0/1 [00:00<?, ?it/s]"
      ]
     },
     "metadata": {},
     "output_type": "display_data"
    },
    {
     "data": {
      "application/vnd.jupyter.widget-view+json": {
       "model_id": "51dc6d9e6fbe4b8b8d51a29d1b68166e",
       "version_major": 2,
       "version_minor": 0
      },
      "text/plain": [
       "Export report to file:   0%|          | 0/1 [00:00<?, ?it/s]"
      ]
     },
     "metadata": {},
     "output_type": "display_data"
    }
   ],
   "source": [
    "generate_report(PeMS_data,'PeMS_data_description')"
   ]
  },
  {
   "cell_type": "code",
   "execution_count": null,
   "metadata": {},
   "outputs": [],
   "source": []
  },
  {
   "cell_type": "code",
   "execution_count": null,
   "metadata": {},
   "outputs": [],
   "source": []
  },
  {
   "cell_type": "markdown",
   "metadata": {},
   "source": [
    "# NU_Temporal_data_with_trip_info"
   ]
  },
  {
   "cell_type": "code",
   "execution_count": 12,
   "metadata": {},
   "outputs": [
    {
     "data": {
      "application/javascript": [
       "\n",
       "        if (window._pyforest_update_imports_cell) { window._pyforest_update_imports_cell('import pandas as pd\\nimport numpy as np'); }\n",
       "    "
      ],
      "text/plain": [
       "<IPython.core.display.Javascript object>"
      ]
     },
     "metadata": {},
     "output_type": "display_data"
    },
    {
     "data": {
      "text/html": [
       "<div>\n",
       "<style scoped>\n",
       "    .dataframe tbody tr th:only-of-type {\n",
       "        vertical-align: middle;\n",
       "    }\n",
       "\n",
       "    .dataframe tbody tr th {\n",
       "        vertical-align: top;\n",
       "    }\n",
       "\n",
       "    .dataframe thead th {\n",
       "        text-align: right;\n",
       "    }\n",
       "</style>\n",
       "<table border=\"1\" class=\"dataframe\">\n",
       "  <thead>\n",
       "    <tr style=\"text-align: right;\">\n",
       "      <th></th>\n",
       "      <th>id</th>\n",
       "      <th>planned_arrival</th>\n",
       "      <th>created_at</th>\n",
       "      <th>trip_created_at</th>\n",
       "      <th>driven_by_charter</th>\n",
       "      <th>quantity</th>\n",
       "      <th>done_at</th>\n",
       "      <th>trip_start</th>\n",
       "      <th>trip_ordering</th>\n",
       "      <th>trip_id</th>\n",
       "      <th>customer_id</th>\n",
       "      <th>driver_id</th>\n",
       "      <th>trip_start_date</th>\n",
       "      <th>done_at_date</th>\n",
       "    </tr>\n",
       "  </thead>\n",
       "  <tbody>\n",
       "    <tr>\n",
       "      <th>0</th>\n",
       "      <td>142138</td>\n",
       "      <td>07:00:00</td>\n",
       "      <td>2019-03-04 09:57:18.811154+00:00</td>\n",
       "      <td>2019-03-05 13:24:05.985918+00:00</td>\n",
       "      <td>True</td>\n",
       "      <td>1</td>\n",
       "      <td>2019-03-05 13:36:35+00:00</td>\n",
       "      <td>2019-03-05 13:33:51.132775+00:00</td>\n",
       "      <td>1</td>\n",
       "      <td>28541</td>\n",
       "      <td>866</td>\n",
       "      <td>217.0</td>\n",
       "      <td>2019-03-05</td>\n",
       "      <td>2019-03-05</td>\n",
       "    </tr>\n",
       "    <tr>\n",
       "      <th>1</th>\n",
       "      <td>142187</td>\n",
       "      <td>16:00:00</td>\n",
       "      <td>2019-03-04 10:04:09.909354+00:00</td>\n",
       "      <td>2019-03-05 13:24:05.627748+00:00</td>\n",
       "      <td>False</td>\n",
       "      <td>1</td>\n",
       "      <td>2019-03-05 13:37:13+00:00</td>\n",
       "      <td>2019-03-05 13:31:51.780798+00:00</td>\n",
       "      <td>1</td>\n",
       "      <td>28540</td>\n",
       "      <td>866</td>\n",
       "      <td>4.0</td>\n",
       "      <td>2019-03-05</td>\n",
       "      <td>2019-03-05</td>\n",
       "    </tr>\n",
       "    <tr>\n",
       "      <th>2</th>\n",
       "      <td>142126</td>\n",
       "      <td>08:03:44</td>\n",
       "      <td>2019-03-04 09:57:17.732576+00:00</td>\n",
       "      <td>2019-03-05 13:24:05.985918+00:00</td>\n",
       "      <td>True</td>\n",
       "      <td>1</td>\n",
       "      <td>2019-03-05 13:37:41+00:00</td>\n",
       "      <td>2019-03-05 13:33:51.282771+00:00</td>\n",
       "      <td>2</td>\n",
       "      <td>28541</td>\n",
       "      <td>866</td>\n",
       "      <td>217.0</td>\n",
       "      <td>2019-03-05</td>\n",
       "      <td>2019-03-05</td>\n",
       "    </tr>\n",
       "    <tr>\n",
       "      <th>3</th>\n",
       "      <td>142035</td>\n",
       "      <td>08:59:42</td>\n",
       "      <td>2019-03-04 09:47:31.160891+00:00</td>\n",
       "      <td>2019-03-05 13:24:05.985918+00:00</td>\n",
       "      <td>True</td>\n",
       "      <td>1</td>\n",
       "      <td>2019-03-05 13:39:42+00:00</td>\n",
       "      <td>2019-03-05 13:33:52.061596+00:00</td>\n",
       "      <td>3</td>\n",
       "      <td>28541</td>\n",
       "      <td>866</td>\n",
       "      <td>217.0</td>\n",
       "      <td>2019-03-05</td>\n",
       "      <td>2019-03-05</td>\n",
       "    </tr>\n",
       "    <tr>\n",
       "      <th>4</th>\n",
       "      <td>142056</td>\n",
       "      <td>16:22:02</td>\n",
       "      <td>2019-03-04 09:50:22.218035+00:00</td>\n",
       "      <td>2019-03-05 13:24:05.627748+00:00</td>\n",
       "      <td>False</td>\n",
       "      <td>1</td>\n",
       "      <td>2019-03-05 13:39:54+00:00</td>\n",
       "      <td>2019-03-05 13:31:52.383132+00:00</td>\n",
       "      <td>2</td>\n",
       "      <td>28540</td>\n",
       "      <td>866</td>\n",
       "      <td>4.0</td>\n",
       "      <td>2019-03-05</td>\n",
       "      <td>2019-03-05</td>\n",
       "    </tr>\n",
       "    <tr>\n",
       "      <th>...</th>\n",
       "      <td>...</td>\n",
       "      <td>...</td>\n",
       "      <td>...</td>\n",
       "      <td>...</td>\n",
       "      <td>...</td>\n",
       "      <td>...</td>\n",
       "      <td>...</td>\n",
       "      <td>...</td>\n",
       "      <td>...</td>\n",
       "      <td>...</td>\n",
       "      <td>...</td>\n",
       "      <td>...</td>\n",
       "      <td>...</td>\n",
       "      <td>...</td>\n",
       "    </tr>\n",
       "    <tr>\n",
       "      <th>137299</th>\n",
       "      <td>1675931</td>\n",
       "      <td>14:17:36</td>\n",
       "      <td>2020-12-11 13:27:13.821686+00:00</td>\n",
       "      <td>2020-12-11 20:21:07.877881+00:00</td>\n",
       "      <td>True</td>\n",
       "      <td>1</td>\n",
       "      <td>2020-12-12 13:16:15.343000+00:00</td>\n",
       "      <td>2020-12-12 05:37:40.744000+00:00</td>\n",
       "      <td>26</td>\n",
       "      <td>120190</td>\n",
       "      <td>866</td>\n",
       "      <td>1041.0</td>\n",
       "      <td>2020-12-12</td>\n",
       "      <td>2020-12-12</td>\n",
       "    </tr>\n",
       "    <tr>\n",
       "      <th>137300</th>\n",
       "      <td>1674191</td>\n",
       "      <td>14:15:54</td>\n",
       "      <td>2020-12-11 05:40:39.406670+00:00</td>\n",
       "      <td>2020-12-11 20:20:06.714110+00:00</td>\n",
       "      <td>True</td>\n",
       "      <td>1</td>\n",
       "      <td>2020-12-12 13:29:30.562000+00:00</td>\n",
       "      <td>2020-12-12 06:06:53.811000+00:00</td>\n",
       "      <td>17</td>\n",
       "      <td>120180</td>\n",
       "      <td>866</td>\n",
       "      <td>744.0</td>\n",
       "      <td>2020-12-12</td>\n",
       "      <td>2020-12-12</td>\n",
       "    </tr>\n",
       "    <tr>\n",
       "      <th>137301</th>\n",
       "      <td>1674329</td>\n",
       "      <td>15:01:00</td>\n",
       "      <td>2020-12-11 06:50:20.087332+00:00</td>\n",
       "      <td>2020-12-11 20:20:06.714110+00:00</td>\n",
       "      <td>True</td>\n",
       "      <td>1</td>\n",
       "      <td>2020-12-12 14:28:47+00:00</td>\n",
       "      <td>2020-12-12 06:06:59.040000+00:00</td>\n",
       "      <td>18</td>\n",
       "      <td>120180</td>\n",
       "      <td>866</td>\n",
       "      <td>744.0</td>\n",
       "      <td>2020-12-12</td>\n",
       "      <td>2020-12-12</td>\n",
       "    </tr>\n",
       "    <tr>\n",
       "      <th>137303</th>\n",
       "      <td>1678535</td>\n",
       "      <td>11:26:38</td>\n",
       "      <td>2020-12-12 09:36:06.608437+00:00</td>\n",
       "      <td>2020-12-14 19:56:00.649313+00:00</td>\n",
       "      <td>False</td>\n",
       "      <td>1</td>\n",
       "      <td>2020-12-15 10:02:42.313000+00:00</td>\n",
       "      <td>2020-12-15 06:00:12.137000+00:00</td>\n",
       "      <td>11</td>\n",
       "      <td>120383</td>\n",
       "      <td>866</td>\n",
       "      <td>242.0</td>\n",
       "      <td>2020-12-15</td>\n",
       "      <td>2020-12-15</td>\n",
       "    </tr>\n",
       "    <tr>\n",
       "      <th>137304</th>\n",
       "      <td>1678527</td>\n",
       "      <td>12:54:52</td>\n",
       "      <td>2020-12-12 09:12:02.567757+00:00</td>\n",
       "      <td>2020-12-14 19:56:00.649313+00:00</td>\n",
       "      <td>False</td>\n",
       "      <td>1</td>\n",
       "      <td>2020-12-15 11:00:12.015000+00:00</td>\n",
       "      <td>2020-12-15 06:00:09.323000+00:00</td>\n",
       "      <td>14</td>\n",
       "      <td>120383</td>\n",
       "      <td>866</td>\n",
       "      <td>242.0</td>\n",
       "      <td>2020-12-15</td>\n",
       "      <td>2020-12-15</td>\n",
       "    </tr>\n",
       "  </tbody>\n",
       "</table>\n",
       "<p>137031 rows × 14 columns</p>\n",
       "</div>"
      ],
      "text/plain": [
       "             id planned_arrival                       created_at  \\\n",
       "0        142138        07:00:00 2019-03-04 09:57:18.811154+00:00   \n",
       "1        142187        16:00:00 2019-03-04 10:04:09.909354+00:00   \n",
       "2        142126        08:03:44 2019-03-04 09:57:17.732576+00:00   \n",
       "3        142035        08:59:42 2019-03-04 09:47:31.160891+00:00   \n",
       "4        142056        16:22:02 2019-03-04 09:50:22.218035+00:00   \n",
       "...         ...             ...                              ...   \n",
       "137299  1675931        14:17:36 2020-12-11 13:27:13.821686+00:00   \n",
       "137300  1674191        14:15:54 2020-12-11 05:40:39.406670+00:00   \n",
       "137301  1674329        15:01:00 2020-12-11 06:50:20.087332+00:00   \n",
       "137303  1678535        11:26:38 2020-12-12 09:36:06.608437+00:00   \n",
       "137304  1678527        12:54:52 2020-12-12 09:12:02.567757+00:00   \n",
       "\n",
       "                        trip_created_at  driven_by_charter  quantity  \\\n",
       "0      2019-03-05 13:24:05.985918+00:00               True         1   \n",
       "1      2019-03-05 13:24:05.627748+00:00              False         1   \n",
       "2      2019-03-05 13:24:05.985918+00:00               True         1   \n",
       "3      2019-03-05 13:24:05.985918+00:00               True         1   \n",
       "4      2019-03-05 13:24:05.627748+00:00              False         1   \n",
       "...                                 ...                ...       ...   \n",
       "137299 2020-12-11 20:21:07.877881+00:00               True         1   \n",
       "137300 2020-12-11 20:20:06.714110+00:00               True         1   \n",
       "137301 2020-12-11 20:20:06.714110+00:00               True         1   \n",
       "137303 2020-12-14 19:56:00.649313+00:00              False         1   \n",
       "137304 2020-12-14 19:56:00.649313+00:00              False         1   \n",
       "\n",
       "                                done_at                       trip_start  \\\n",
       "0             2019-03-05 13:36:35+00:00 2019-03-05 13:33:51.132775+00:00   \n",
       "1             2019-03-05 13:37:13+00:00 2019-03-05 13:31:51.780798+00:00   \n",
       "2             2019-03-05 13:37:41+00:00 2019-03-05 13:33:51.282771+00:00   \n",
       "3             2019-03-05 13:39:42+00:00 2019-03-05 13:33:52.061596+00:00   \n",
       "4             2019-03-05 13:39:54+00:00 2019-03-05 13:31:52.383132+00:00   \n",
       "...                                 ...                              ...   \n",
       "137299 2020-12-12 13:16:15.343000+00:00 2020-12-12 05:37:40.744000+00:00   \n",
       "137300 2020-12-12 13:29:30.562000+00:00 2020-12-12 06:06:53.811000+00:00   \n",
       "137301        2020-12-12 14:28:47+00:00 2020-12-12 06:06:59.040000+00:00   \n",
       "137303 2020-12-15 10:02:42.313000+00:00 2020-12-15 06:00:12.137000+00:00   \n",
       "137304 2020-12-15 11:00:12.015000+00:00 2020-12-15 06:00:09.323000+00:00   \n",
       "\n",
       "        trip_ordering  trip_id  customer_id  driver_id trip_start_date  \\\n",
       "0                   1    28541          866      217.0      2019-03-05   \n",
       "1                   1    28540          866        4.0      2019-03-05   \n",
       "2                   2    28541          866      217.0      2019-03-05   \n",
       "3                   3    28541          866      217.0      2019-03-05   \n",
       "4                   2    28540          866        4.0      2019-03-05   \n",
       "...               ...      ...          ...        ...             ...   \n",
       "137299             26   120190          866     1041.0      2020-12-12   \n",
       "137300             17   120180          866      744.0      2020-12-12   \n",
       "137301             18   120180          866      744.0      2020-12-12   \n",
       "137303             11   120383          866      242.0      2020-12-15   \n",
       "137304             14   120383          866      242.0      2020-12-15   \n",
       "\n",
       "       done_at_date  \n",
       "0        2019-03-05  \n",
       "1        2019-03-05  \n",
       "2        2019-03-05  \n",
       "3        2019-03-05  \n",
       "4        2019-03-05  \n",
       "...             ...  \n",
       "137299   2020-12-12  \n",
       "137300   2020-12-12  \n",
       "137301   2020-12-12  \n",
       "137303   2020-12-15  \n",
       "137304   2020-12-15  \n",
       "\n",
       "[137031 rows x 14 columns]"
      ]
     },
     "execution_count": 12,
     "metadata": {},
     "output_type": "execute_result"
    }
   ],
   "source": [
    "NU_Temporal_data_with_trip_info = pd.read_pickle('NU_Temporal data_with_trip_info.pkl')\n",
    "NU_Temporal_data_with_trip_info"
   ]
  },
  {
   "cell_type": "code",
   "execution_count": 8,
   "metadata": {},
   "outputs": [
    {
     "data": {
      "application/vnd.jupyter.widget-view+json": {
       "model_id": "628dcddba94e49078590aa30a9ba8716",
       "version_major": 2,
       "version_minor": 0
      },
      "text/plain": [
       "Summarize dataset:   0%|          | 0/29 [00:00<?, ?it/s]"
      ]
     },
     "metadata": {},
     "output_type": "display_data"
    },
    {
     "data": {
      "application/vnd.jupyter.widget-view+json": {
       "model_id": "0a160114c57a42a38e2539f8f7732345",
       "version_major": 2,
       "version_minor": 0
      },
      "text/plain": [
       "Generate report structure:   0%|          | 0/1 [00:00<?, ?it/s]"
      ]
     },
     "metadata": {},
     "output_type": "display_data"
    },
    {
     "data": {
      "application/vnd.jupyter.widget-view+json": {
       "model_id": "85c3f459b55445c68904d70ead1fbef8",
       "version_major": 2,
       "version_minor": 0
      },
      "text/plain": [
       "Render HTML:   0%|          | 0/1 [00:00<?, ?it/s]"
      ]
     },
     "metadata": {},
     "output_type": "display_data"
    },
    {
     "data": {
      "application/vnd.jupyter.widget-view+json": {
       "model_id": "b529887b10084a8b9a0f5abfb30ee6c2",
       "version_major": 2,
       "version_minor": 0
      },
      "text/plain": [
       "Export report to file:   0%|          | 0/1 [00:00<?, ?it/s]"
      ]
     },
     "metadata": {},
     "output_type": "display_data"
    }
   ],
   "source": [
    "generate_report(NU_Temporal_data_with_trip_info,'NU_Temporal_data_with_trip_info_description')"
   ]
  },
  {
   "cell_type": "code",
   "execution_count": 14,
   "metadata": {},
   "outputs": [],
   "source": [
    "# NU_Temporal_data_with_trip_info.dtypes"
   ]
  },
  {
   "cell_type": "code",
   "execution_count": 15,
   "metadata": {},
   "outputs": [
    {
     "data": {
      "text/plain": [
       "14135"
      ]
     },
     "execution_count": 15,
     "metadata": {},
     "output_type": "execute_result"
    }
   ],
   "source": [
    "NU_Temporal_data_with_trip_info.trip_id.nunique()"
   ]
  },
  {
   "cell_type": "raw",
   "metadata": {},
   "source": [
    "Total Number of Trips              : 14135\n",
    "Average Number of Trips per Month  : 643\n",
    "Average Number of Trips per day    : 24\n",
    "Average Number of Stops per Trips  : 10"
   ]
  },
  {
   "cell_type": "markdown",
   "metadata": {},
   "source": [
    "# NU_spatio_temporal_with_distance"
   ]
  },
  {
   "cell_type": "code",
   "execution_count": 2,
   "metadata": {},
   "outputs": [
    {
     "data": {
      "application/javascript": [
       "\n",
       "        if (window._pyforest_update_imports_cell) { window._pyforest_update_imports_cell('import pandas as pd'); }\n",
       "    "
      ],
      "text/plain": [
       "<IPython.core.display.Javascript object>"
      ]
     },
     "metadata": {},
     "output_type": "display_data"
    },
    {
     "data": {
      "text/html": [
       "<div>\n",
       "<style scoped>\n",
       "    .dataframe tbody tr th:only-of-type {\n",
       "        vertical-align: middle;\n",
       "    }\n",
       "\n",
       "    .dataframe tbody tr th {\n",
       "        vertical-align: top;\n",
       "    }\n",
       "\n",
       "    .dataframe thead th {\n",
       "        text-align: right;\n",
       "    }\n",
       "</style>\n",
       "<table border=\"1\" class=\"dataframe\">\n",
       "  <thead>\n",
       "    <tr style=\"text-align: right;\">\n",
       "      <th></th>\n",
       "      <th>id</th>\n",
       "      <th>start_lat</th>\n",
       "      <th>start_lon</th>\n",
       "      <th>stop_lat</th>\n",
       "      <th>stop_lon</th>\n",
       "      <th>quantity</th>\n",
       "      <th>done_at</th>\n",
       "      <th>trip_start</th>\n",
       "      <th>trip_id</th>\n",
       "      <th>customer_id</th>\n",
       "      <th>driver_id</th>\n",
       "      <th>kilometers</th>\n",
       "      <th>stop_start_lat</th>\n",
       "      <th>stop_start_lon</th>\n",
       "      <th>travel_start_time</th>\n",
       "      <th>duration</th>\n",
       "      <th>g_distance</th>\n",
       "      <th>turns</th>\n",
       "      <th>total_distance</th>\n",
       "    </tr>\n",
       "  </thead>\n",
       "  <tbody>\n",
       "    <tr>\n",
       "      <th>0</th>\n",
       "      <td>100274</td>\n",
       "      <td>52.020390</td>\n",
       "      <td>5.154920</td>\n",
       "      <td>51.983227</td>\n",
       "      <td>5.079331</td>\n",
       "      <td>19</td>\n",
       "      <td>2019-01-22 01:43:49+00:00</td>\n",
       "      <td>2019-01-22 00:48:00.239601+00:00</td>\n",
       "      <td>24309</td>\n",
       "      <td>1</td>\n",
       "      <td>533.0</td>\n",
       "      <td>418.0</td>\n",
       "      <td>52.0204</td>\n",
       "      <td>5.15492</td>\n",
       "      <td>2019-01-22 01:01:09.033766+00:00</td>\n",
       "      <td>14.9833</td>\n",
       "      <td>11.582</td>\n",
       "      <td>16</td>\n",
       "      <td>193.992</td>\n",
       "    </tr>\n",
       "    <tr>\n",
       "      <th>1</th>\n",
       "      <td>100582</td>\n",
       "      <td>52.020390</td>\n",
       "      <td>5.154920</td>\n",
       "      <td>51.838640</td>\n",
       "      <td>4.957680</td>\n",
       "      <td>11</td>\n",
       "      <td>2019-01-22 02:11:04+00:00</td>\n",
       "      <td>2019-01-22 01:01:09.033766+00:00</td>\n",
       "      <td>24309</td>\n",
       "      <td>1</td>\n",
       "      <td>533.0</td>\n",
       "      <td>418.0</td>\n",
       "      <td>51.9832</td>\n",
       "      <td>5.07933</td>\n",
       "      <td>2019-01-22 01:43:49+00:00</td>\n",
       "      <td>18.9167</td>\n",
       "      <td>21.378</td>\n",
       "      <td>12</td>\n",
       "      <td>193.992</td>\n",
       "    </tr>\n",
       "    <tr>\n",
       "      <th>2</th>\n",
       "      <td>100327</td>\n",
       "      <td>52.020390</td>\n",
       "      <td>5.154920</td>\n",
       "      <td>51.979898</td>\n",
       "      <td>4.583965</td>\n",
       "      <td>2</td>\n",
       "      <td>2019-01-22 03:01:26+00:00</td>\n",
       "      <td>2019-01-22 00:47:59.436893+00:00</td>\n",
       "      <td>24309</td>\n",
       "      <td>1</td>\n",
       "      <td>533.0</td>\n",
       "      <td>418.0</td>\n",
       "      <td>51.8386</td>\n",
       "      <td>4.95768</td>\n",
       "      <td>2019-01-22 02:11:04+00:00</td>\n",
       "      <td>38.0333</td>\n",
       "      <td>45.406</td>\n",
       "      <td>17</td>\n",
       "      <td>193.992</td>\n",
       "    </tr>\n",
       "    <tr>\n",
       "      <th>3</th>\n",
       "      <td>100611</td>\n",
       "      <td>52.020390</td>\n",
       "      <td>5.154920</td>\n",
       "      <td>51.960995</td>\n",
       "      <td>4.543000</td>\n",
       "      <td>25</td>\n",
       "      <td>2019-01-22 03:22:42+00:00</td>\n",
       "      <td>2019-01-22 00:47:58.148863+00:00</td>\n",
       "      <td>24309</td>\n",
       "      <td>1</td>\n",
       "      <td>533.0</td>\n",
       "      <td>418.0</td>\n",
       "      <td>51.9799</td>\n",
       "      <td>4.58397</td>\n",
       "      <td>2019-01-22 03:01:26+00:00</td>\n",
       "      <td>11.5</td>\n",
       "      <td>5.352</td>\n",
       "      <td>11</td>\n",
       "      <td>193.992</td>\n",
       "    </tr>\n",
       "    <tr>\n",
       "      <th>4</th>\n",
       "      <td>100629</td>\n",
       "      <td>52.020390</td>\n",
       "      <td>5.154920</td>\n",
       "      <td>51.965778</td>\n",
       "      <td>4.221331</td>\n",
       "      <td>2</td>\n",
       "      <td>2019-01-22 03:52:17+00:00</td>\n",
       "      <td>2019-01-22 00:50:42.050646+00:00</td>\n",
       "      <td>24309</td>\n",
       "      <td>1</td>\n",
       "      <td>533.0</td>\n",
       "      <td>418.0</td>\n",
       "      <td>51.961</td>\n",
       "      <td>4.543</td>\n",
       "      <td>2019-01-22 03:22:42+00:00</td>\n",
       "      <td>27.2833</td>\n",
       "      <td>29.54</td>\n",
       "      <td>14</td>\n",
       "      <td>193.992</td>\n",
       "    </tr>\n",
       "    <tr>\n",
       "      <th>...</th>\n",
       "      <td>...</td>\n",
       "      <td>...</td>\n",
       "      <td>...</td>\n",
       "      <td>...</td>\n",
       "      <td>...</td>\n",
       "      <td>...</td>\n",
       "      <td>...</td>\n",
       "      <td>...</td>\n",
       "      <td>...</td>\n",
       "      <td>...</td>\n",
       "      <td>...</td>\n",
       "      <td>...</td>\n",
       "      <td>...</td>\n",
       "      <td>...</td>\n",
       "      <td>...</td>\n",
       "      <td>...</td>\n",
       "      <td>...</td>\n",
       "      <td>...</td>\n",
       "      <td>...</td>\n",
       "    </tr>\n",
       "    <tr>\n",
       "      <th>37108</th>\n",
       "      <td>2151647</td>\n",
       "      <td>52.020184</td>\n",
       "      <td>5.155052</td>\n",
       "      <td>52.000456</td>\n",
       "      <td>4.331418</td>\n",
       "      <td>22</td>\n",
       "      <td>2021-04-14 01:46:04.376000+00:00</td>\n",
       "      <td>2021-04-13 23:14:52.011000+00:00</td>\n",
       "      <td>145758</td>\n",
       "      <td>1</td>\n",
       "      <td>15347.0</td>\n",
       "      <td>152.0</td>\n",
       "      <td>52.0186</td>\n",
       "      <td>4.43402</td>\n",
       "      <td>2021-04-14 00:50:28.012000+00:00</td>\n",
       "      <td>17.6833</td>\n",
       "      <td>11.395</td>\n",
       "      <td>18</td>\n",
       "      <td>80.855</td>\n",
       "    </tr>\n",
       "    <tr>\n",
       "      <th>37109</th>\n",
       "      <td>2143671</td>\n",
       "      <td>52.020184</td>\n",
       "      <td>5.155052</td>\n",
       "      <td>51.581950</td>\n",
       "      <td>4.797580</td>\n",
       "      <td>1</td>\n",
       "      <td>2021-04-14 07:41:02.802000+00:00</td>\n",
       "      <td>2021-04-14 02:54:04.074000+00:00</td>\n",
       "      <td>145745</td>\n",
       "      <td>1</td>\n",
       "      <td>415.0</td>\n",
       "      <td>284.0</td>\n",
       "      <td>52.0202</td>\n",
       "      <td>5.15505</td>\n",
       "      <td>2021-04-14 02:54:04.074000+00:00</td>\n",
       "      <td>45.8167</td>\n",
       "      <td>63.41</td>\n",
       "      <td>14</td>\n",
       "      <td>63.410</td>\n",
       "    </tr>\n",
       "    <tr>\n",
       "      <th>37110</th>\n",
       "      <td>2153819</td>\n",
       "      <td>52.020184</td>\n",
       "      <td>5.155052</td>\n",
       "      <td>52.385803</td>\n",
       "      <td>4.841029</td>\n",
       "      <td>1</td>\n",
       "      <td>2021-04-14 07:43:09+00:00</td>\n",
       "      <td>2021-04-14 04:15:53.097000+00:00</td>\n",
       "      <td>145748</td>\n",
       "      <td>1</td>\n",
       "      <td>433.0</td>\n",
       "      <td>264.0</td>\n",
       "      <td>52.0202</td>\n",
       "      <td>5.15505</td>\n",
       "      <td>2021-04-14 04:15:53.097000+00:00</td>\n",
       "      <td>39.9</td>\n",
       "      <td>55.121</td>\n",
       "      <td>16</td>\n",
       "      <td>55.121</td>\n",
       "    </tr>\n",
       "    <tr>\n",
       "      <th>37111</th>\n",
       "      <td>2153861</td>\n",
       "      <td>52.020184</td>\n",
       "      <td>5.155052</td>\n",
       "      <td>52.344430</td>\n",
       "      <td>5.613690</td>\n",
       "      <td>1</td>\n",
       "      <td>2021-04-14 07:50:12.703000+00:00</td>\n",
       "      <td>2021-04-14 05:05:27.413000+00:00</td>\n",
       "      <td>145749</td>\n",
       "      <td>1</td>\n",
       "      <td>713.0</td>\n",
       "      <td>304.0</td>\n",
       "      <td>52.0202</td>\n",
       "      <td>5.15505</td>\n",
       "      <td>2021-04-14 05:05:27.413000+00:00</td>\n",
       "      <td>42.0833</td>\n",
       "      <td>58.208</td>\n",
       "      <td>14</td>\n",
       "      <td>58.208</td>\n",
       "    </tr>\n",
       "    <tr>\n",
       "      <th>37112</th>\n",
       "      <td>2153429</td>\n",
       "      <td>52.020184</td>\n",
       "      <td>5.155052</td>\n",
       "      <td>52.045294</td>\n",
       "      <td>4.537611</td>\n",
       "      <td>9</td>\n",
       "      <td>2021-04-14 08:04:51.516000+00:00</td>\n",
       "      <td>2021-04-14 03:14:25.809000+00:00</td>\n",
       "      <td>145750</td>\n",
       "      <td>1</td>\n",
       "      <td>215.0</td>\n",
       "      <td>143.0</td>\n",
       "      <td>52.0202</td>\n",
       "      <td>5.15505</td>\n",
       "      <td>2021-04-14 03:14:25.809000+00:00</td>\n",
       "      <td>37.5667</td>\n",
       "      <td>52.593</td>\n",
       "      <td>13</td>\n",
       "      <td>52.593</td>\n",
       "    </tr>\n",
       "  </tbody>\n",
       "</table>\n",
       "<p>37113 rows × 19 columns</p>\n",
       "</div>"
      ],
      "text/plain": [
       "            id  start_lat  start_lon   stop_lat  stop_lon  quantity  \\\n",
       "0       100274  52.020390   5.154920  51.983227  5.079331        19   \n",
       "1       100582  52.020390   5.154920  51.838640  4.957680        11   \n",
       "2       100327  52.020390   5.154920  51.979898  4.583965         2   \n",
       "3       100611  52.020390   5.154920  51.960995  4.543000        25   \n",
       "4       100629  52.020390   5.154920  51.965778  4.221331         2   \n",
       "...        ...        ...        ...        ...       ...       ...   \n",
       "37108  2151647  52.020184   5.155052  52.000456  4.331418        22   \n",
       "37109  2143671  52.020184   5.155052  51.581950  4.797580         1   \n",
       "37110  2153819  52.020184   5.155052  52.385803  4.841029         1   \n",
       "37111  2153861  52.020184   5.155052  52.344430  5.613690         1   \n",
       "37112  2153429  52.020184   5.155052  52.045294  4.537611         9   \n",
       "\n",
       "                               done_at                       trip_start  \\\n",
       "0            2019-01-22 01:43:49+00:00 2019-01-22 00:48:00.239601+00:00   \n",
       "1            2019-01-22 02:11:04+00:00 2019-01-22 01:01:09.033766+00:00   \n",
       "2            2019-01-22 03:01:26+00:00 2019-01-22 00:47:59.436893+00:00   \n",
       "3            2019-01-22 03:22:42+00:00 2019-01-22 00:47:58.148863+00:00   \n",
       "4            2019-01-22 03:52:17+00:00 2019-01-22 00:50:42.050646+00:00   \n",
       "...                                ...                              ...   \n",
       "37108 2021-04-14 01:46:04.376000+00:00 2021-04-13 23:14:52.011000+00:00   \n",
       "37109 2021-04-14 07:41:02.802000+00:00 2021-04-14 02:54:04.074000+00:00   \n",
       "37110        2021-04-14 07:43:09+00:00 2021-04-14 04:15:53.097000+00:00   \n",
       "37111 2021-04-14 07:50:12.703000+00:00 2021-04-14 05:05:27.413000+00:00   \n",
       "37112 2021-04-14 08:04:51.516000+00:00 2021-04-14 03:14:25.809000+00:00   \n",
       "\n",
       "       trip_id  customer_id  driver_id  kilometers stop_start_lat  \\\n",
       "0        24309            1      533.0       418.0        52.0204   \n",
       "1        24309            1      533.0       418.0        51.9832   \n",
       "2        24309            1      533.0       418.0        51.8386   \n",
       "3        24309            1      533.0       418.0        51.9799   \n",
       "4        24309            1      533.0       418.0         51.961   \n",
       "...        ...          ...        ...         ...            ...   \n",
       "37108   145758            1    15347.0       152.0        52.0186   \n",
       "37109   145745            1      415.0       284.0        52.0202   \n",
       "37110   145748            1      433.0       264.0        52.0202   \n",
       "37111   145749            1      713.0       304.0        52.0202   \n",
       "37112   145750            1      215.0       143.0        52.0202   \n",
       "\n",
       "      stop_start_lon                 travel_start_time duration g_distance  \\\n",
       "0            5.15492  2019-01-22 01:01:09.033766+00:00  14.9833     11.582   \n",
       "1            5.07933         2019-01-22 01:43:49+00:00  18.9167     21.378   \n",
       "2            4.95768         2019-01-22 02:11:04+00:00  38.0333     45.406   \n",
       "3            4.58397         2019-01-22 03:01:26+00:00     11.5      5.352   \n",
       "4              4.543         2019-01-22 03:22:42+00:00  27.2833      29.54   \n",
       "...              ...                               ...      ...        ...   \n",
       "37108        4.43402  2021-04-14 00:50:28.012000+00:00  17.6833     11.395   \n",
       "37109        5.15505  2021-04-14 02:54:04.074000+00:00  45.8167      63.41   \n",
       "37110        5.15505  2021-04-14 04:15:53.097000+00:00     39.9     55.121   \n",
       "37111        5.15505  2021-04-14 05:05:27.413000+00:00  42.0833     58.208   \n",
       "37112        5.15505  2021-04-14 03:14:25.809000+00:00  37.5667     52.593   \n",
       "\n",
       "      turns  total_distance  \n",
       "0        16         193.992  \n",
       "1        12         193.992  \n",
       "2        17         193.992  \n",
       "3        11         193.992  \n",
       "4        14         193.992  \n",
       "...     ...             ...  \n",
       "37108    18          80.855  \n",
       "37109    14          63.410  \n",
       "37110    16          55.121  \n",
       "37111    14          58.208  \n",
       "37112    13          52.593  \n",
       "\n",
       "[37113 rows x 19 columns]"
      ]
     },
     "execution_count": 2,
     "metadata": {},
     "output_type": "execute_result"
    }
   ],
   "source": [
    "NU_spatio_temporal_with_distance = pd.read_pickle('NU_spatio-temporal_with_distance_data.pkl')\n",
    "NU_spatio_temporal_with_distance"
   ]
  },
  {
   "cell_type": "code",
   "execution_count": 3,
   "metadata": {},
   "outputs": [
    {
     "data": {
      "application/javascript": [
       "\n",
       "        if (window._pyforest_update_imports_cell) { window._pyforest_update_imports_cell('import pandas as pd\\nimport numpy as np'); }\n",
       "    "
      ],
      "text/plain": [
       "<IPython.core.display.Javascript object>"
      ]
     },
     "metadata": {},
     "output_type": "display_data"
    },
    {
     "data": {
      "application/javascript": [
       "\n",
       "        if (window._pyforest_update_imports_cell) { window._pyforest_update_imports_cell('import pandas as pd\\nimport numpy as np'); }\n",
       "    "
      ],
      "text/plain": [
       "<IPython.core.display.Javascript object>"
      ]
     },
     "metadata": {},
     "output_type": "display_data"
    },
    {
     "data": {
      "application/javascript": [
       "\n",
       "        if (window._pyforest_update_imports_cell) { window._pyforest_update_imports_cell('import pandas as pd\\nimport numpy as np'); }\n",
       "    "
      ],
      "text/plain": [
       "<IPython.core.display.Javascript object>"
      ]
     },
     "metadata": {},
     "output_type": "display_data"
    },
    {
     "data": {
      "application/javascript": [
       "\n",
       "        if (window._pyforest_update_imports_cell) { window._pyforest_update_imports_cell('import pandas as pd\\nimport numpy as np'); }\n",
       "    "
      ],
      "text/plain": [
       "<IPython.core.display.Javascript object>"
      ]
     },
     "metadata": {},
     "output_type": "display_data"
    },
    {
     "data": {
      "application/javascript": [
       "\n",
       "        if (window._pyforest_update_imports_cell) { window._pyforest_update_imports_cell('import pandas as pd\\nimport numpy as np'); }\n",
       "    "
      ],
      "text/plain": [
       "<IPython.core.display.Javascript object>"
      ]
     },
     "metadata": {},
     "output_type": "display_data"
    },
    {
     "data": {
      "application/javascript": [
       "\n",
       "        if (window._pyforest_update_imports_cell) { window._pyforest_update_imports_cell('import pandas as pd\\nimport numpy as np'); }\n",
       "    "
      ],
      "text/plain": [
       "<IPython.core.display.Javascript object>"
      ]
     },
     "metadata": {},
     "output_type": "display_data"
    }
   ],
   "source": [
    "NU_spatio_temporal_with_distance['duration'] = NU_spatio_temporal_with_distance['duration'].astype(np.float64)\n",
    "NU_spatio_temporal_with_distance['stop_start_lat'] = NU_spatio_temporal_with_distance['stop_start_lat'].astype(np.float64)\n",
    "NU_spatio_temporal_with_distance['stop_start_lon'] = NU_spatio_temporal_with_distance['stop_start_lon'].astype(np.float64)\n",
    "NU_spatio_temporal_with_distance['travel_start_time'] = NU_spatio_temporal_with_distance['travel_start_time'].astype(np.datetime64)\n",
    "NU_spatio_temporal_with_distance['g_distance'] = NU_spatio_temporal_with_distance['g_distance'].astype(np.float64)\n",
    "NU_spatio_temporal_with_distance['turns'] = NU_spatio_temporal_with_distance['turns'].astype(np.float64)"
   ]
  },
  {
   "cell_type": "code",
   "execution_count": 5,
   "metadata": {},
   "outputs": [],
   "source": [
    "# NU_spatio_temporal_with_distance.dtypes"
   ]
  },
  {
   "cell_type": "code",
   "execution_count": 53,
   "metadata": {},
   "outputs": [
    {
     "data": {
      "application/vnd.jupyter.widget-view+json": {
       "model_id": "9d5a747ef9d84b8b9506752671e6b9c7",
       "version_major": 2,
       "version_minor": 0
      },
      "text/plain": [
       "Summarize dataset:   0%|          | 0/33 [00:00<?, ?it/s]"
      ]
     },
     "metadata": {},
     "output_type": "display_data"
    },
    {
     "data": {
      "application/vnd.jupyter.widget-view+json": {
       "model_id": "f3da7f621f124a68b69dddf969716fc7",
       "version_major": 2,
       "version_minor": 0
      },
      "text/plain": [
       "Generate report structure:   0%|          | 0/1 [00:00<?, ?it/s]"
      ]
     },
     "metadata": {},
     "output_type": "display_data"
    },
    {
     "data": {
      "application/vnd.jupyter.widget-view+json": {
       "model_id": "6a21a6260a644b3ebbe7031e39285ffd",
       "version_major": 2,
       "version_minor": 0
      },
      "text/plain": [
       "Render HTML:   0%|          | 0/1 [00:00<?, ?it/s]"
      ]
     },
     "metadata": {},
     "output_type": "display_data"
    },
    {
     "data": {
      "application/vnd.jupyter.widget-view+json": {
       "model_id": "88a4cc250573450da92b827f3f54e588",
       "version_major": 2,
       "version_minor": 0
      },
      "text/plain": [
       "Export report to file:   0%|          | 0/1 [00:00<?, ?it/s]"
      ]
     },
     "metadata": {},
     "output_type": "display_data"
    }
   ],
   "source": [
    "generate_report(NU_spatio_temporal_with_distance_data,'NU_spatio_temporal_with_distance_data_description')"
   ]
  },
  {
   "cell_type": "code",
   "execution_count": 7,
   "metadata": {},
   "outputs": [
    {
     "data": {
      "text/plain": [
       "5272"
      ]
     },
     "execution_count": 7,
     "metadata": {},
     "output_type": "execute_result"
    }
   ],
   "source": [
    "NU_spatio_temporal_with_distance.trip_id.nunique()"
   ]
  },
  {
   "cell_type": "code",
   "execution_count": 16,
   "metadata": {},
   "outputs": [
    {
     "data": {
      "text/plain": [
       "7.553008595988539"
      ]
     },
     "execution_count": 16,
     "metadata": {},
     "output_type": "execute_result"
    }
   ],
   "source": [
    "5272/698"
   ]
  },
  {
   "cell_type": "raw",
   "metadata": {},
   "source": [
    "Total Number of Trips              : 5272\n",
    "Average Number of Trips per Month  : 195\n",
    "Average Number of Trips per day    : 7-8\n",
    "Average Number of Stops per Trips  : 7"
   ]
  }
 ],
 "metadata": {
  "kernelspec": {
   "display_name": "Python 3",
   "language": "python",
   "name": "python3"
  },
  "language_info": {
   "codemirror_mode": {
    "name": "ipython",
    "version": 3
   },
   "file_extension": ".py",
   "mimetype": "text/x-python",
   "name": "python",
   "nbconvert_exporter": "python",
   "pygments_lexer": "ipython3",
   "version": "3.7.6"
  }
 },
 "nbformat": 4,
 "nbformat_minor": 4
}
